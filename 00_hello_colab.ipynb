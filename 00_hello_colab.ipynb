{
  "nbformat": 4,
  "nbformat_minor": 0,
  "metadata": {
    "colab": {
      "provenance": []
    },
    "kernelspec": {
      "name": "python3",
      "display_name": "Python 3"
    },
    "language_info": {
      "name": "python"
    }
  },
  "cells": [
    {
      "cell_type": "markdown",
      "source": [
        "[Google Colab](https://colab.research.google.com/) is a hosted Jupyter notebook environment that allows anyone to run Python code via a web-browser. It provides you free computation and data storage that can be utilized by your Python code.\n",
        "\n",
        "You can click the `+Code` button to create a new cell and enter a block of code. To run the code, click the **Run Code** button next to the cell, or press `Shirt+Enter` key."
      ],
      "metadata": {
        "id": "ceEx-y9nSS2w"
      }
    },
    {
      "cell_type": "code",
      "execution_count": 1,
      "metadata": {
        "id": "f_43xbJERpr5",
        "outputId": "39ddb093-3960-487e-a8a4-d6d791a102ed",
        "colab": {
          "base_uri": "https://localhost:8080/"
        }
      },
      "outputs": [
        {
          "output_type": "stream",
          "name": "stdout",
          "text": [
            "Hello World\n"
          ]
        }
      ],
      "source": [
        "print('Hello World')"
      ]
    },
    {
      "cell_type": "markdown",
      "source": [
        "### Package Management"
      ],
      "metadata": {
        "id": "xjhxNMwMWnVO"
      }
    },
    {
      "cell_type": "markdown",
      "source": [
        "Colab comes pre-installed with many Python packages. You can use a package by simply importing it."
      ],
      "metadata": {
        "id": "bWFPnmZiTjnU"
      }
    },
    {
      "cell_type": "code",
      "source": [
        "import pandas as pd\n",
        "import geopandas as gpd"
      ],
      "metadata": {
        "id": "aGpVqvmtTgKe"
      },
      "execution_count": 4,
      "outputs": []
    },
    {
      "cell_type": "markdown",
      "source": [
        "Each Colab notebook instance is run on a Ubuntu Linux machine in the cloud. If you want to install any packages, you can run a command by prefixing the command with a `!`. For example, you can install third-party packages via `pip` using the command `!pip`.\n",
        "\n",
        "> Tip: If you want to list all pre-install packages and their versions in your Colab environemnt, you can run `!pip list -v`."
      ],
      "metadata": {
        "id": "Y3VsOFzhT0Do"
      }
    },
    {
      "cell_type": "code",
      "source": [
        "!pip install rioxarray"
      ],
      "metadata": {
        "id": "MW-ZJkPlTzI2",
        "outputId": "f88998a6-8cd5-41be-8816-00ca7186c575",
        "colab": {
          "base_uri": "https://localhost:8080/"
        }
      },
      "execution_count": 5,
      "outputs": [
        {
          "output_type": "stream",
          "name": "stdout",
          "text": [
            "Collecting rioxarray\n",
            "  Downloading rioxarray-0.17.0-py3-none-any.whl.metadata (5.4 kB)\n",
            "Requirement already satisfied: packaging in /usr/local/lib/python3.10/dist-packages (from rioxarray) (24.1)\n",
            "Collecting rasterio>=1.3 (from rioxarray)\n",
            "  Downloading rasterio-1.3.11-cp310-cp310-manylinux_2_17_x86_64.manylinux2014_x86_64.whl.metadata (14 kB)\n",
            "Requirement already satisfied: xarray>=2022.3.0 in /usr/local/lib/python3.10/dist-packages (from rioxarray) (2024.9.0)\n",
            "Requirement already satisfied: pyproj>=3.3 in /usr/local/lib/python3.10/dist-packages (from rioxarray) (3.6.1)\n",
            "Requirement already satisfied: numpy>=1.23 in /usr/local/lib/python3.10/dist-packages (from rioxarray) (1.26.4)\n",
            "Requirement already satisfied: certifi in /usr/local/lib/python3.10/dist-packages (from pyproj>=3.3->rioxarray) (2024.8.30)\n",
            "Collecting affine (from rasterio>=1.3->rioxarray)\n",
            "  Downloading affine-2.4.0-py3-none-any.whl.metadata (4.0 kB)\n",
            "Requirement already satisfied: attrs in /usr/local/lib/python3.10/dist-packages (from rasterio>=1.3->rioxarray) (24.2.0)\n",
            "Requirement already satisfied: click>=4.0 in /usr/local/lib/python3.10/dist-packages (from rasterio>=1.3->rioxarray) (8.1.7)\n",
            "Collecting cligj>=0.5 (from rasterio>=1.3->rioxarray)\n",
            "  Downloading cligj-0.7.2-py3-none-any.whl.metadata (5.0 kB)\n",
            "Collecting snuggs>=1.4.1 (from rasterio>=1.3->rioxarray)\n",
            "  Downloading snuggs-1.4.7-py3-none-any.whl.metadata (3.4 kB)\n",
            "Collecting click-plugins (from rasterio>=1.3->rioxarray)\n",
            "  Downloading click_plugins-1.1.1-py2.py3-none-any.whl.metadata (6.4 kB)\n",
            "Requirement already satisfied: setuptools in /usr/local/lib/python3.10/dist-packages (from rasterio>=1.3->rioxarray) (71.0.4)\n",
            "Requirement already satisfied: pandas>=2.1 in /usr/local/lib/python3.10/dist-packages (from xarray>=2022.3.0->rioxarray) (2.1.4)\n",
            "Requirement already satisfied: python-dateutil>=2.8.2 in /usr/local/lib/python3.10/dist-packages (from pandas>=2.1->xarray>=2022.3.0->rioxarray) (2.8.2)\n",
            "Requirement already satisfied: pytz>=2020.1 in /usr/local/lib/python3.10/dist-packages (from pandas>=2.1->xarray>=2022.3.0->rioxarray) (2024.2)\n",
            "Requirement already satisfied: tzdata>=2022.1 in /usr/local/lib/python3.10/dist-packages (from pandas>=2.1->xarray>=2022.3.0->rioxarray) (2024.1)\n",
            "Requirement already satisfied: pyparsing>=2.1.6 in /usr/local/lib/python3.10/dist-packages (from snuggs>=1.4.1->rasterio>=1.3->rioxarray) (3.1.4)\n",
            "Requirement already satisfied: six>=1.5 in /usr/local/lib/python3.10/dist-packages (from python-dateutil>=2.8.2->pandas>=2.1->xarray>=2022.3.0->rioxarray) (1.16.0)\n",
            "Downloading rioxarray-0.17.0-py3-none-any.whl (61 kB)\n",
            "\u001b[2K   \u001b[90m━━━━━━━━━━━━━━━━━━━━━━━━━━━━━━━━━━━━━━━━\u001b[0m \u001b[32m61.0/61.0 kB\u001b[0m \u001b[31m1.1 MB/s\u001b[0m eta \u001b[36m0:00:00\u001b[0m\n",
            "\u001b[?25hDownloading rasterio-1.3.11-cp310-cp310-manylinux_2_17_x86_64.manylinux2014_x86_64.whl (21.7 MB)\n",
            "\u001b[2K   \u001b[90m━━━━━━━━━━━━━━━━━━━━━━━━━━━━━━━━━━━━━━━━\u001b[0m \u001b[32m21.7/21.7 MB\u001b[0m \u001b[31m57.4 MB/s\u001b[0m eta \u001b[36m0:00:00\u001b[0m\n",
            "\u001b[?25hDownloading cligj-0.7.2-py3-none-any.whl (7.1 kB)\n",
            "Downloading snuggs-1.4.7-py3-none-any.whl (5.4 kB)\n",
            "Downloading affine-2.4.0-py3-none-any.whl (15 kB)\n",
            "Downloading click_plugins-1.1.1-py2.py3-none-any.whl (7.5 kB)\n",
            "Installing collected packages: snuggs, cligj, click-plugins, affine, rasterio, rioxarray\n",
            "Successfully installed affine-2.4.0 click-plugins-1.1.1 cligj-0.7.2 rasterio-1.3.11 rioxarray-0.17.0 snuggs-1.4.7\n"
          ]
        }
      ]
    },
    {
      "cell_type": "code",
      "source": [
        "import rioxarray"
      ],
      "metadata": {
        "id": "mCD2S6v2Txsh"
      },
      "execution_count": 6,
      "outputs": []
    },
    {
      "cell_type": "markdown",
      "source": [
        "### Data Management"
      ],
      "metadata": {
        "id": "RZdVNzPaWqN-"
      }
    },
    {
      "cell_type": "markdown",
      "source": [
        "Colab provides 100GB of disk space along with your notebook. This can be used to store your data, intermediate outputs and results.\n",
        "\n",
        "The code below will create 2 folders named 'data' and 'output' in your local filesystem."
      ],
      "metadata": {
        "id": "XqhJNBE1WwQP"
      }
    },
    {
      "cell_type": "code",
      "source": [
        "import os\n",
        "\n",
        "data_folder = 'data'\n",
        "output_folder = 'output'\n",
        "\n",
        "if not os.path.exists(data_folder):\n",
        "    os.mkdir(data_folder)\n",
        "if not os.path.exists(output_folder):\n",
        "    os.mkdir(output_folder)"
      ],
      "metadata": {
        "id": "olSHRvf1WvkW"
      },
      "execution_count": 7,
      "outputs": []
    },
    {
      "cell_type": "markdown",
      "source": [
        "We can download some data from the internet and store it in the Colab environment. Below is a helper function to download a file from a URL."
      ],
      "metadata": {
        "id": "fLh0NSLgXXdj"
      }
    },
    {
      "cell_type": "code",
      "source": [
        "import requests\n",
        "\n",
        "def download(url):\n",
        "    filename = os.path.join(data_folder, os.path.basename(url))\n",
        "    if not os.path.exists(filename):\n",
        "      with requests.get(url, stream=True, allow_redirects=True) as r:\n",
        "          with open(filename, 'wb') as f:\n",
        "              for chunk in r.iter_content(chunk_size=8192):\n",
        "                  f.write(chunk)\n",
        "      print('Downloaded', filename)"
      ],
      "metadata": {
        "id": "mj-PAdjzWsHv"
      },
      "execution_count": 8,
      "outputs": []
    },
    {
      "cell_type": "markdown",
      "source": [
        "Let's download the [Populated Places](https://www.naturalearthdata.com/downloads/10m-cultural-vectors/) dataset from Natural Earth."
      ],
      "metadata": {
        "id": "cwqVMovqXr-k"
      }
    },
    {
      "cell_type": "code",
      "source": [
        "download('https://naciscdn.org/naturalearth/10m/cultural/' +\n",
        "         'ne_10m_populated_places_simple.zip')"
      ],
      "metadata": {
        "id": "m-Zh7-XZXqSr",
        "outputId": "48ce2549-181d-452e-845c-3dafabd6c749",
        "colab": {
          "base_uri": "https://localhost:8080/"
        }
      },
      "execution_count": 9,
      "outputs": [
        {
          "output_type": "stream",
          "name": "stdout",
          "text": [
            "Downloaded data/ne_10m_populated_places_simple.zip\n"
          ]
        }
      ]
    },
    {
      "cell_type": "markdown",
      "source": [
        "The file is now in our local filesystem. We can construct the path to the data folder and read it using `geopandas`"
      ],
      "metadata": {
        "id": "yUdH_Hm5Y45w"
      }
    },
    {
      "cell_type": "code",
      "source": [
        "file = 'ne_10m_populated_places_simple.zip'\n",
        "filepath = os.path.join(data_folder, file)\n",
        "places = gpd.read_file(filepath)"
      ],
      "metadata": {
        "id": "VCYS8SlSYCkk"
      },
      "execution_count": null,
      "outputs": []
    },
    {
      "cell_type": "markdown",
      "source": [
        "Let's do some data processing and write the results to a new file. The code below will filter all places which are also country capitals."
      ],
      "metadata": {
        "id": "3kaEfDKPZKxo"
      }
    },
    {
      "cell_type": "code",
      "source": [
        "capitals = places[places['adm0cap'] == 1]\n",
        "capitals"
      ],
      "metadata": {
        "id": "TN71a2vPYjma"
      },
      "execution_count": null,
      "outputs": []
    },
    {
      "cell_type": "markdown",
      "source": [
        "We can write the results to the disk as a GeoPackage file."
      ],
      "metadata": {
        "id": "aF3glHG_ZY4K"
      }
    },
    {
      "cell_type": "code",
      "source": [
        "output_file = 'capitals.gpkg'\n",
        "output_path = os.path.join(output_folder, output_file)\n",
        "capitals.to_file(driver='GPKG', filename=output_path)"
      ],
      "metadata": {
        "id": "60Wc8XblY1XY"
      },
      "execution_count": null,
      "outputs": []
    },
    {
      "cell_type": "markdown",
      "source": [
        "You can open the **Files** tab from the left-hand panel in Colab and browse to the `output` folder. Locate the `capitals.gpkg` file and click the **⋮** button and select *Download* to download the file locally."
      ],
      "metadata": {
        "id": "jVEALmycZrpM"
      }
    }
  ]
}